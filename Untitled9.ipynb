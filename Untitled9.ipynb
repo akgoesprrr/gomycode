{
 "cells": [
  {
   "cell_type": "code",
   "execution_count": 7,
   "id": "1c163c06",
   "metadata": {},
   "outputs": [],
   "source": [
    "#Q1\n",
    "def maximum(a,b,c):\n",
    "    if a>=b and a>=c:\n",
    "        return(a)\n",
    "    elif b>=a and b>=c:\n",
    "        return(b)\n",
    "    else:\n",
    "        return(c)"
   ]
  },
  {
   "cell_type": "code",
   "execution_count": 9,
   "id": "b1350e82",
   "metadata": {},
   "outputs": [
    {
     "data": {
      "text/plain": [
       "(8, 2)"
      ]
     },
     "execution_count": 9,
     "metadata": {},
     "output_type": "execute_result"
    }
   ],
   "source": [
    "#Q2\n",
    "def add_subt(a,b):\n",
    "    return ((a+b,a-b))\n",
    "add_subt(5,3)"
   ]
  },
  {
   "cell_type": "code",
   "execution_count": 26,
   "id": "0ef1ec7c",
   "metadata": {},
   "outputs": [],
   "source": [
    "#Q3\n",
    "#addition\n",
    "def add(L):\n",
    "    result=0\n",
    "    for i in L:\n",
    "        result=result+i\n",
    "    return(result)\n",
    "#multiplying\n",
    "def mult(L):\n",
    "    x=1\n",
    "    for i in L:\n",
    "        x=x*i\n",
    "    return(x)"
   ]
  },
  {
   "cell_type": "code",
   "execution_count": null,
   "id": "5eec7ef0",
   "metadata": {},
   "outputs": [],
   "source": [
    "#Q4\n",
    "items=[n for n in input().split('-')]\n",
    "items.sort()\n",
    "print('-'.join(items))"
   ]
  },
  {
   "cell_type": "code",
   "execution_count": null,
   "id": "963cb861",
   "metadata": {},
   "outputs": [],
   "source": []
  }
 ],
 "metadata": {
  "kernelspec": {
   "display_name": "Python 3 (ipykernel)",
   "language": "python",
   "name": "python3"
  },
  "language_info": {
   "codemirror_mode": {
    "name": "ipython",
    "version": 3
   },
   "file_extension": ".py",
   "mimetype": "text/x-python",
   "name": "python",
   "nbconvert_exporter": "python",
   "pygments_lexer": "ipython3",
   "version": "3.9.12"
  }
 },
 "nbformat": 4,
 "nbformat_minor": 5
}
