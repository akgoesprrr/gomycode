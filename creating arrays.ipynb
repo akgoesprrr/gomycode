{
 "cells": [
  {
   "cell_type": "code",
   "execution_count": 4,
   "id": "51ca9807",
   "metadata": {},
   "outputs": [
    {
     "name": "stdout",
     "output_type": "stream",
     "text": [
      "[[1, 2], [3, 4]]\n"
     ]
    }
   ],
   "source": [
    "#1\n",
    "import numpy as np \n",
    "array1=np.array([[1,2],[3,4]])\n",
    "array1_list=array1.tolist()\n",
    "print(array1_list)"
   ]
  },
  {
   "cell_type": "code",
   "execution_count": 13,
   "id": "458cd8c5",
   "metadata": {},
   "outputs": [
    {
     "name": "stdout",
     "output_type": "stream",
     "text": [
      "trace =  3\n"
     ]
    }
   ],
   "source": [
    "#2\n",
    "import numpy as np\n",
    "array1=np.arange(6).reshape(3,2)\n",
    "result=np.trace(array1)\n",
    "print(\"trace = \",result)\n"
   ]
  },
  {
   "cell_type": "code",
   "execution_count": 16,
   "id": "38d73564",
   "metadata": {},
   "outputs": [
    {
     "name": "stdout",
     "output_type": "stream",
     "text": [
      "values bigger than 2 [3 4 5 6]\n"
     ]
    }
   ],
   "source": [
    "#3\n",
    "import numpy as np \n",
    "x=np.array([[1,2,3],[4,5,6]])\n",
    "print(\"values bigger than 2\",x[x>2])"
   ]
  },
  {
   "cell_type": "code",
   "execution_count": 17,
   "id": "d5590e51",
   "metadata": {},
   "outputs": [
    {
     "name": "stdout",
     "output_type": "stream",
     "text": [
      "[ 6  8 10]\n"
     ]
    }
   ],
   "source": [
    "#4 \n",
    "import numpy as np\n",
    "a=np.array([1,2,3])\n",
    "b=np.array([5,6,7])\n",
    "c=a+b\n",
    "print(c)"
   ]
  },
  {
   "cell_type": "code",
   "execution_count": 22,
   "id": "9b6f880d",
   "metadata": {},
   "outputs": [
    {
     "name": "stdout",
     "output_type": "stream",
     "text": [
      "[[ 0.18510324  0.12906557 -0.44741771 -0.5472384  -0.19289533 -0.10253706\n",
      "   0.22301091  0.25888697  0.19208361  0.3019382 ]\n",
      " [ 0.05493229 -0.24301454 -0.27294453 -0.22173869  0.49416508 -0.01811122\n",
      "  -0.08374938  0.46284879 -0.22838808  0.0560003 ]\n",
      " [-0.22586917  0.39723846 -0.11565016 -0.3779082   0.0064398   0.29318763\n",
      "  -0.42217568  0.30532908 -0.20408033  0.34348858]\n",
      " [ 0.28866573  0.20906197  0.12157303  0.28572866  0.21735626  0.07569691\n",
      "  -0.46319206  0.16548905 -0.54222821 -0.35815133]\n",
      " [ 0.23833445 -0.20039141 -0.27321586 -0.36256704 -0.22107982  0.26730911\n",
      "  -0.0325473   0.45582596  0.10194551  0.0263864 ]]\n"
     ]
    }
   ],
   "source": [
    "import numpy as np \n",
    "x=np.random.rand(5,10)\n",
    "Y = x - x.mean(axis=1, keepdims=True)\n",
    "print(Y)"
   ]
  },
  {
   "cell_type": "code",
   "execution_count": null,
   "id": "b3927ea2",
   "metadata": {},
   "outputs": [],
   "source": []
  }
 ],
 "metadata": {
  "kernelspec": {
   "display_name": "Python 3 (ipykernel)",
   "language": "python",
   "name": "python3"
  },
  "language_info": {
   "codemirror_mode": {
    "name": "ipython",
    "version": 3
   },
   "file_extension": ".py",
   "mimetype": "text/x-python",
   "name": "python",
   "nbconvert_exporter": "python",
   "pygments_lexer": "ipython3",
   "version": "3.9.12"
  }
 },
 "nbformat": 4,
 "nbformat_minor": 5
}
