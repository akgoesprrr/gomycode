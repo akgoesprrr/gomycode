{
 "cells": [
  {
   "cell_type": "code",
   "execution_count": null,
   "id": "f6d87c02",
   "metadata": {},
   "outputs": [],
   "source": [
    "#EXECICE 1 \n",
    "L=[]\n",
    "for i in range(2000,3201):\n",
    "    if i%7==0 and i%5!=0 :\n",
    "        L.append(i)\n",
    "        print(L)"
   ]
  },
  {
   "cell_type": "code",
   "execution_count": 1,
   "id": "49cc49a0",
   "metadata": {},
   "outputs": [
    {
     "name": "stdout",
     "output_type": "stream",
     "text": [
      "ENTER A NUMBER5\n",
      "the factorial of 5 is 120\n"
     ]
    }
   ],
   "source": [
    "#Exercice2\n",
    "num=int(input(\"ENTER A NUMBER\"))\n",
    "factorial=1\n",
    "for i in range(2,num+1):\n",
    "    factorial=factorial*i\n",
    "print(\"the factorial of\",num,\"is\", factorial)"
   ]
  },
  {
   "cell_type": "code",
   "execution_count": 2,
   "id": "11d6c2bc",
   "metadata": {},
   "outputs": [
    {
     "name": "stdout",
     "output_type": "stream",
     "text": [
      "give number pls8\n",
      "{1: 1, 2: 4, 3: 9, 4: 16, 5: 25, 6: 36, 7: 49, 8: 64}\n"
     ]
    }
   ],
   "source": [
    "#EXERCICE3\n",
    "num=int(input(\"give number pls\"))\n",
    "dictnum={}\n",
    "for i in range(1,num+1):\n",
    "    dictnum[i]=i*i\n",
    "print(dictnum)"
   ]
  },
  {
   "cell_type": "code",
   "execution_count": null,
   "id": "e2af9c5f",
   "metadata": {},
   "outputs": [],
   "source": [
    "#Exercice 4\n",
    "n=int(input(\"gimme nmbr pls\"))\n",
    "ch=input(\"gimme ch\")\n",
    "front=ch[:n]\n",
    "back=ch[n+1:]\n",
    "slice=front+back\n",
    "print(slice)"
   ]
  },
  {
   "cell_type": "code",
   "execution_count": 1,
   "id": "f144c8ac",
   "metadata": {},
   "outputs": [
    {
     "name": "stdout",
     "output_type": "stream",
     "text": [
      "Original array elements:\n",
      "[[0 1]\n",
      " [2 3]\n",
      " [4 5]]\n",
      "Array to list:\n",
      "[[0, 1], [2, 3], [4, 5]]\n"
     ]
    }
   ],
   "source": [
    "#Exercice5\n",
    "import numpy as np\n",
    "x= np.arange(6).reshape(3, 2)\n",
    "print(\"Original array elements:\")\n",
    "print(x)\n",
    "print(\"Array to list:\")\n",
    "print(x.tolist())\n"
   ]
  },
  {
   "cell_type": "code",
   "execution_count": null,
   "id": "07a338f6",
   "metadata": {},
   "outputs": [],
   "source": [
    "#exercice6\n",
    "import numpy as np \n",
    "x=np.array([0,1,2])\n",
    "y=np.array([2,1,0])\n",
    "print(\"1st array is\",x)\n",
    "print(\"2nd array is \",y)\n",
    "print(\"covariance is\", np.cov(x,y))"
   ]
  },
  {
   "cell_type": "code",
   "execution_count": 2,
   "id": "37dcf36e",
   "metadata": {},
   "outputs": [
    {
     "name": "stdout",
     "output_type": "stream",
     "text": [
      "give D PLS 5\n",
      "[4]\n"
     ]
    }
   ],
   "source": [
    "#Exercice7\n",
    "import math\n",
    "\n",
    "numbers = input(\"give D PLS \")\n",
    "numbers = numbers.split(',')\n",
    "\n",
    "result_list = []\n",
    "for D in numbers:\n",
    "    Q = round(math.sqrt(2 * 50 * int(D) / 30))\n",
    "    result_list.append(Q)\n",
    "\n",
    "print(result_list)"
   ]
  },
  {
   "cell_type": "code",
   "execution_count": null,
   "id": "180ab652",
   "metadata": {},
   "outputs": [],
   "source": []
  }
 ],
 "metadata": {
  "kernelspec": {
   "display_name": "Python 3 (ipykernel)",
   "language": "python",
   "name": "python3"
  },
  "language_info": {
   "codemirror_mode": {
    "name": "ipython",
    "version": 3
   },
   "file_extension": ".py",
   "mimetype": "text/x-python",
   "name": "python",
   "nbconvert_exporter": "python",
   "pygments_lexer": "ipython3",
   "version": "3.9.12"
  }
 },
 "nbformat": 4,
 "nbformat_minor": 5
}
