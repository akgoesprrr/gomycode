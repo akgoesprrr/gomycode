{
 "cells": [
  {
   "cell_type": "code",
   "execution_count": null,
   "id": "d77c6cda",
   "metadata": {},
   "outputs": [],
   "source": [
    "#Question 1 \n",
    "First = input(\"gimme ur first name\")\n",
    "Last = input (\"gimme ur last name\")\n",
    "print(Last,\" \",First)"
   ]
  },
  {
   "cell_type": "code",
   "execution_count": null,
   "id": "3d0d9930",
   "metadata": {},
   "outputs": [],
   "source": [
    "#Question 2 \n",
    "n=input()\n",
    "ch= int(n) + int(n+n) + int(n+n+n)\n",
    "print(ch)"
   ]
  },
  {
   "cell_type": "code",
   "execution_count": 3,
   "id": "15f2be46",
   "metadata": {},
   "outputs": [
    {
     "name": "stdout",
     "output_type": "stream",
     "text": [
      "give numbr pls T_T 69\n",
      "number is odd </3\n"
     ]
    }
   ],
   "source": [
    "#Question 3 \n",
    "n=int(input(\"give numbr pls T_T \"))\n",
    "if n%2==0 : \n",
    "    print(\"number is even <3\")\n",
    "else : \n",
    "    print(\"number is odd </3\")\n",
    "    \n"
   ]
  },
  {
   "cell_type": "code",
   "execution_count": 10,
   "id": "cbac00d3",
   "metadata": {},
   "outputs": [
    {
     "name": "stdout",
     "output_type": "stream",
     "text": [
      "2002 2009 2016 2023 2037 2044 2051 2058 2072 2079 2086 2093 2107 2114 2121 2128 2142 2149 2156 2163 2177 2184 2191 2198 2212 2219 2226 2233 2247 2254 2261 2268 2282 2289 2296 2303 2317 2324 2331 2338 2352 2359 2366 2373 2387 2394 2401 2408 2422 2429 2436 2443 2457 2464 2471 2478 2492 2499 2506 2513 2527 2534 2541 2548 2562 2569 2576 2583 2597 2604 2611 2618 2632 2639 2646 2653 2667 2674 2681 2688 2702 2709 2716 2723 2737 2744 2751 2758 2772 2779 2786 2793 2807 2814 2821 2828 2842 2849 2856 2863 2877 2884 2891 2898 2912 2919 2926 2933 2947 2954 2961 2968 2982 2989 2996 3003 3017 3024 3031 3038 3052 3059 3066 3073 3087 3094 3101 3108 3122 3129 3136 3143 3157 3164 3171 3178 3192 3199 "
     ]
    }
   ],
   "source": [
    "#Question 4 \n",
    "for i in range (2000,3201):\n",
    "    if (i%7==0 ) and (i%5!=0):\n",
    "        print(i,end=' ')\n",
    "\n"
   ]
  },
  {
   "cell_type": "code",
   "execution_count": 39,
   "id": "7956ccbc",
   "metadata": {},
   "outputs": [
    {
     "name": "stdout",
     "output_type": "stream",
     "text": [
      "give number3\n",
      "The factorial of 3 is 6\n"
     ]
    }
   ],
   "source": [
    "#Question 5 \n",
    "num = int(input(\"give number\"))\n",
    "factorial = 1\n",
    "\n",
    "if num < 0:\n",
    "   print(\"Sorry, factorial does not exist for negative numbers\")\n",
    "elif num == 0:\n",
    "   print(\"The factorial of 0 is 1\")\n",
    "else:\n",
    "   for i in range(1,num + 1):\n",
    "       factorial = factorial*i\n",
    "   print(\"The factorial of\",num,\"is\",factorial)\n",
    "        \n",
    "\n",
    "        \n",
    "    "
   ]
  },
  {
   "cell_type": "code",
   "execution_count": 42,
   "id": "32246386",
   "metadata": {},
   "outputs": [
    {
     "name": "stdout",
     "output_type": "stream",
     "text": [
      "gimme stradam\n",
      "aa\n"
     ]
    }
   ],
   "source": [
    "#Question 6 \n",
    "ch=input(\"gimme str\")\n",
    "final=''\n",
    "for i in range(len(ch)):\n",
    "    if i%2==0:\n",
    "        final=final+ch[i]\n",
    "print(final)"
   ]
  },
  {
   "cell_type": "code",
   "execution_count": 46,
   "id": "1fe9088b",
   "metadata": {},
   "outputs": [
    {
     "name": "stdout",
     "output_type": "stream",
     "text": [
      "gimme price100\n",
      "final price is 90.0\n"
     ]
    }
   ],
   "source": [
    "#Question 7 \n",
    "price=int(input(\"gimme price\"))\n",
    "if price >= 500 : \n",
    "    price=price - price*0.5\n",
    "elif price >= 200 and price < 500 : \n",
    "    price=price-price*0.3\n",
    "else :\n",
    "    price=price - price*0.1\n",
    "print(\"final price is\",price)"
   ]
  },
  {
   "cell_type": "code",
   "execution_count": null,
   "id": "6e9fa728",
   "metadata": {},
   "outputs": [],
   "source": []
  },
  {
   "cell_type": "code",
   "execution_count": null,
   "id": "6e57bacf",
   "metadata": {},
   "outputs": [],
   "source": []
  }
 ],
 "metadata": {
  "kernelspec": {
   "display_name": "Python 3 (ipykernel)",
   "language": "python",
   "name": "python3"
  },
  "language_info": {
   "codemirror_mode": {
    "name": "ipython",
    "version": 3
   },
   "file_extension": ".py",
   "mimetype": "text/x-python",
   "name": "python",
   "nbconvert_exporter": "python",
   "pygments_lexer": "ipython3",
   "version": "3.9.12"
  }
 },
 "nbformat": 4,
 "nbformat_minor": 5
}
