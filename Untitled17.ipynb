{
 "cells": [
  {
   "cell_type": "code",
   "execution_count": 1,
   "id": "5721a903",
   "metadata": {},
   "outputs": [
    {
     "data": {
      "text/plain": [
       "967"
      ]
     },
     "execution_count": 1,
     "metadata": {},
     "output_type": "execute_result"
    }
   ],
   "source": [
    "mylist=[14, \"hello\", 967]\n",
    "mylist[2]\n",
    "#INDEX 6 DOESNT EXIST"
   ]
  },
  {
   "cell_type": "code",
   "execution_count": 5,
   "id": "a6d1cfa5",
   "metadata": {},
   "outputs": [],
   "source": [
    "import pandas\n",
    "import numpy\n",
    "#no modules exist by that name need to spell correctly"
   ]
  },
  {
   "cell_type": "code",
   "execution_count": 8,
   "id": "80d027c3",
   "metadata": {},
   "outputs": [
    {
     "name": "stdout",
     "output_type": "stream",
     "text": [
      "python errors\n"
     ]
    }
   ],
   "source": [
    "print('python errors')\n",
    "#print spelled wrong and missed parentheses"
   ]
  },
  {
   "cell_type": "code",
   "execution_count": 10,
   "id": "19fe16c5",
   "metadata": {},
   "outputs": [
    {
     "data": {
      "text/plain": [
       "'hello'"
      ]
     },
     "execution_count": 10,
     "metadata": {},
     "output_type": "execute_result"
    }
   ],
   "source": [
    "mydictionnary={True:\"hello\",False:\"bye\", '3':\"python\"}\n",
    "mydictionnary[True]\n",
    "#Key error it shouldnt be in form of string"
   ]
  },
  {
   "cell_type": "code",
   "execution_count": null,
   "id": "7906ec5b",
   "metadata": {},
   "outputs": [],
   "source": [
    "i=14\n",
    "print(i)"
   ]
  },
  {
   "cell_type": "code",
   "execution_count": null,
   "id": "42dacb03",
   "metadata": {},
   "outputs": [],
   "source": [
    "i=14\n",
    "while i<78:\n",
    "    print(i)\n",
    "i+=1"
   ]
  },
  {
   "cell_type": "code",
   "execution_count": null,
   "id": "d2c8cc4e",
   "metadata": {},
   "outputs": [],
   "source": [
    "15+15\n",
    "#Can't add two values from different types"
   ]
  },
  {
   "cell_type": "code",
   "execution_count": null,
   "id": "4cadbc62",
   "metadata": {},
   "outputs": [],
   "source": [
    "'python'\n",
    "#Cant transform str into int"
   ]
  },
  {
   "cell_type": "code",
   "execution_count": null,
   "id": "b2660f5e",
   "metadata": {},
   "outputs": [],
   "source": [
    "python=5 \n",
    "print(python)\n",
    "#Name wasnt defined"
   ]
  },
  {
   "cell_type": "code",
   "execution_count": null,
   "id": "e222fa2d",
   "metadata": {},
   "outputs": [],
   "source": [
    "x=19/1\n",
    "#You can't perform a division on 0 "
   ]
  }
 ],
 "metadata": {
  "kernelspec": {
   "display_name": "Python 3 (ipykernel)",
   "language": "python",
   "name": "python3"
  },
  "language_info": {
   "codemirror_mode": {
    "name": "ipython",
    "version": 3
   },
   "file_extension": ".py",
   "mimetype": "text/x-python",
   "name": "python",
   "nbconvert_exporter": "python",
   "pygments_lexer": "ipython3",
   "version": "3.9.12"
  }
 },
 "nbformat": 4,
 "nbformat_minor": 5
}
