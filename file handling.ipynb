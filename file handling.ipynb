{
 "cells": [
  {
   "cell_type": "code",
   "execution_count": null,
   "id": "4a7f7702",
   "metadata": {},
   "outputs": [],
   "source": [
    "#1\n",
    "with open('python.txt','r') as file:\n",
    "    var=file.read()\n",
    "    print(var)\n",
    "    file.close()\n",
    "    pass\n",
    "    \n"
   ]
  },
  {
   "cell_type": "code",
   "execution_count": null,
   "id": "c27163e1",
   "metadata": {},
   "outputs": [],
   "source": [
    "#2\n",
    "def file_read_from_head(fname, nlines):\n",
    "        from itertools import islice\n",
    "        with open(fname) as f:\n",
    "                for line in islice(f, nlines):\n",
    "                        print(line)\n",
    "file_read_from_head('test.txt',2)"
   ]
  },
  {
   "cell_type": "code",
   "execution_count": null,
   "id": "04ddf89f",
   "metadata": {},
   "outputs": [],
   "source": [
    "#3\n",
    "n = 5\n",
    "with open(\"example.txt\") as f:\n",
    "    last_n_lines = f.readlines()[-n:]"
   ]
  },
  {
   "cell_type": "code",
   "execution_count": null,
   "id": "3f0a053f",
   "metadata": {},
   "outputs": [],
   "source": [
    "#4\n",
    "def count_words(filepath):\n",
    "   with open(filepath) as f:\n",
    "       data = f.read()\n",
    "       data.replace(\",\", \" \")\n",
    "       return len(data.split(\" \"))\n",
    "print(count_words(\"words.txt\")"
   ]
  }
 ],
 "metadata": {
  "kernelspec": {
   "display_name": "Python 3 (ipykernel)",
   "language": "python",
   "name": "python3"
  },
  "language_info": {
   "codemirror_mode": {
    "name": "ipython",
    "version": 3
   },
   "file_extension": ".py",
   "mimetype": "text/x-python",
   "name": "python",
   "nbconvert_exporter": "python",
   "pygments_lexer": "ipython3",
   "version": "3.9.12"
  }
 },
 "nbformat": 4,
 "nbformat_minor": 5
}
